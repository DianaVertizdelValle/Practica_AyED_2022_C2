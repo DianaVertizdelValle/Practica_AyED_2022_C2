{
 "cells": [
  {
   "cell_type": "markdown",
   "metadata": {
    "id": "K73zjqF60Ut6"
   },
   "source": [
    "### Organizamos nuestro código usando **funciones**\n",
    "Podemos dividir nuestro programa en módulos que realicen una tarea específica, esto nos permitirá reutilizarlos en distintos lugares sin repetir código, manteniendo nuestro programa organizado."
   ]
  },
  {
   "cell_type": "code",
   "execution_count": null,
   "metadata": {
    "id": "PM8OVFlA15us"
   },
   "outputs": [],
   "source": [
    "# definición de una función\n",
    "\n",
    "def suma_enteros(numero:int) -> int:\n",
    "  \"\"\"\n",
    "  Realiza la suma de números enteros en un rango y devuelve el resultado\n",
    "  numero : int, número entero positivo que especifica el rango para la suma\n",
    "  returns: int, retorna la suma de 1 hasta numero inclusive. \n",
    "  \"\"\"\n",
    "  suma = 0\n",
    "  for num in range(numero+1):\n",
    "    suma += num\n",
    "\n",
    "  return suma"
   ]
  },
  {
   "cell_type": "markdown",
   "metadata": {
    "id": "JXpsdysP5eLs"
   },
   "source": [
    "Si no se especifica retorno, python agrega el valor de retorno **\"None\"**, None es el valor del tipo de dato **\"NoneType\"**. \n",
    "Una función no se ejecuta hasta que es \"llamada\".\n",
    "Podemos repasar la idea de ámbito de una variable usando [pythontutor](https://pythontutor.com/visualize.html#mode=edit)"
   ]
  },
  {
   "cell_type": "code",
   "execution_count": null,
   "metadata": {
    "id": "FFmQhm7D48Pn"
   },
   "outputs": [],
   "source": [
    "numero = 4\n",
    "resultado = suma_enteros(numero)\n",
    "print(resultado)"
   ]
  },
  {
   "cell_type": "markdown",
   "metadata": {
    "id": "e5g2LPhYGNL6"
   },
   "source": [
    "En python las funciones son objetos que pueden pasarse como parámetros. Además, así como podemos anidar condicionales, podemos anidar bucles incluso funciones!: 😊"
   ]
  },
  {
   "cell_type": "code",
   "execution_count": null,
   "metadata": {
    "id": "2lx_Y_cwAG4T"
   },
   "outputs": [],
   "source": [
    "def decir_hola(nombre):\n",
    "  return f\"Hola {nombre}\"\n",
    "\n",
    "def somos_geniales(nombre):\n",
    "  return f\"Che {nombre}, somos geniales juntos!\"\n",
    "\n",
    "def saludar_bob(func_saludo):\n",
    "  return func_saludo(\"Bob\")"
   ]
  },
  {
   "cell_type": "code",
   "execution_count": null,
   "metadata": {
    "id": "If9MOSW72MmF"
   },
   "outputs": [],
   "source": [
    "print(saludar_bob(decir_hola))"
   ]
  },
  {
   "cell_type": "code",
   "execution_count": null,
   "metadata": {
    "id": "UcoDK2VX2RqS"
   },
   "outputs": [],
   "source": [
    "print(saludar_bob(somos_geniales))"
   ]
  },
  {
   "cell_type": "markdown",
   "metadata": {
    "id": "X_WQd0ez91UL"
   },
   "source": [
    "En el ejemplo anterior, las funciones **decir_hola** y **somos_geniales** se pasan como parámetros a la función **saludar_bob**."
   ]
  },
  {
   "cell_type": "code",
   "execution_count": null,
   "metadata": {
    "id": "SZeOz8zx3NOi"
   },
   "outputs": [],
   "source": [
    "# funciones anidadas\n",
    "def funcion_padre():\n",
    "  print(\"mensaje de la función funcion_padre()\")\n",
    "\n",
    "  def primer_hijo():\n",
    "    print(\"salida de la función primer_hijo()\")\n",
    "\n",
    "  def segundo_hijo():\n",
    "    print(\"salida de la función segundo_hijo()\")\n",
    "\n",
    "  segundo_hijo()\n",
    "  primer_hijo()"
   ]
  },
  {
   "cell_type": "code",
   "execution_count": null,
   "metadata": {
    "id": "oIJc6H6A7utc"
   },
   "outputs": [],
   "source": [
    "funcion_padre()"
   ]
  },
  {
   "cell_type": "markdown",
   "metadata": {
    "id": "BaBWbtXn-WYG"
   },
   "source": [
    "Tener en cuenta que las funciones **primer_hijo** y **segundo_hijo** existen en el ámbito local de la **funcion_padre** por tanto no son accesibles desde el ámbito global"
   ]
  },
  {
   "cell_type": "markdown",
   "metadata": {
    "id": "fCIreF3TEodQ"
   },
   "source": [
    "Es distinto **hacer una llamada a la función** a retornar una **referencia de la función**\n",
    "\n",
    "Retornar una referencia nos permite acceder a una función que se encuentra dentro del ámbito de otra función."
   ]
  },
  {
   "cell_type": "code",
   "execution_count": null,
   "metadata": {
    "id": "GNDpFuZk7zUe"
   },
   "outputs": [],
   "source": [
    "def funcion_padre(num):\n",
    "\n",
    "  def primer_hijo():\n",
    "    return \"salida de la función primer_hijo()\"\n",
    "\n",
    "  def segundo_hijo():\n",
    "    return \"salida de la función segundo_hijo()\"\n",
    "\n",
    "  if num == 1:\n",
    "    return primer_hijo\n",
    "  else:\n",
    "    return segundo_hijo    "
   ]
  },
  {
   "cell_type": "code",
   "execution_count": null,
   "metadata": {
    "id": "H8-TgRBl8xfZ"
   },
   "outputs": [],
   "source": [
    "print(funcion_padre(1))"
   ]
  },
  {
   "cell_type": "code",
   "execution_count": null,
   "metadata": {
    "id": "2KhJhBc59Fpe"
   },
   "outputs": [],
   "source": [
    "primero = funcion_padre(1)\n",
    "print(primero())"
   ]
  },
  {
   "cell_type": "markdown",
   "metadata": {
    "id": "MNjy0C6U_e75"
   },
   "source": [
    "### Decoradores  🎁 🎉🐍\n",
    "Vamos a utilizar lo que vimos hasta ahora sobre funciones para implementar decoradores para nuestras funciones"
   ]
  },
  {
   "cell_type": "code",
   "execution_count": null,
   "metadata": {
    "id": "YbhjWxTo_50n"
   },
   "outputs": [],
   "source": [
    "def mi_decorador(func):\n",
    "  def wrapper_func():\n",
    "    print(\"Se realiza una acción antes de la función\")\n",
    "    func()\n",
    "    print(\"Se realiza una acción después de la función\")\n",
    "  return wrapper_func\n",
    "\n",
    "def mi_funcion():\n",
    "  print(\"Soy la función\")"
   ]
  },
  {
   "cell_type": "code",
   "execution_count": null,
   "metadata": {
    "id": "B6qzB-GGXBir"
   },
   "outputs": [],
   "source": [
    "# decorado de mi función\n",
    "mi_funcion = mi_decorador(mi_funcion)"
   ]
  },
  {
   "cell_type": "code",
   "execution_count": null,
   "metadata": {
    "id": "pCQuOQ6kZ-R6"
   },
   "outputs": [],
   "source": [
    "mi_funcion()"
   ]
  },
  {
   "cell_type": "markdown",
   "metadata": {
    "id": "QydX90sXXqQN"
   },
   "source": [
    "Ahora **\"mi_funcion\"** es una referencia a la función interna **\"wrapper_func\"** de **\"mi_decorador\"**. Sin embargo, **\"wrapper_func\"** hace la llamada a la función **\"mi_funcion\"** original.\n",
    "\n",
    "De forma simple, un decorador recibe una función como parámetro, le agrega funcionalidades mediante una función **wrapper o envoltorio** y la retorna modificando su comportamiento. "
   ]
  },
  {
   "cell_type": "code",
   "execution_count": null,
   "metadata": {
    "id": "hszk3gvnM_T-"
   },
   "outputs": [],
   "source": [
    "def mi_decorador(func):\n",
    "  def wrapper_func():\n",
    "    print(\"Se realiza una acción antes de la función\")\n",
    "    func()\n",
    "    print(\"Se realiza una acción después de la función\")\n",
    "  return wrapper_func\n",
    "\n",
    "@mi_decorador\n",
    "def mi_funcion():\n",
    "  print(\"Soy la función\")"
   ]
  },
  {
   "cell_type": "code",
   "execution_count": null,
   "metadata": {
    "id": "W8PXjHY0dDd2"
   },
   "outputs": [],
   "source": [
    "mi_funcion()"
   ]
  },
  {
   "cell_type": "markdown",
   "metadata": {
    "id": "q28_8utbGdxH"
   },
   "source": [
    "### Generadores ⏭ ⏸ ⏭\n",
    "Son un tipo de función especial que nos devuelve un iterador \"perezoso\". Son objetos que nos permite iterar sobre elementos como hacemos con las cadenas pero sin tener todos esos elementos al mismo tiempo en memoria."
   ]
  },
  {
   "cell_type": "code",
   "execution_count": null,
   "metadata": {
    "id": "dEYSrfbSGf5Y"
   },
   "outputs": [],
   "source": [
    "print(range(3))"
   ]
  },
  {
   "cell_type": "code",
   "execution_count": null,
   "metadata": {
    "id": "nfVufgRaGiIJ"
   },
   "outputs": [],
   "source": [
    "for num in range(3):\n",
    "  print(num)"
   ]
  },
  {
   "cell_type": "code",
   "execution_count": null,
   "metadata": {
    "id": "wC6t8oDuGxmc"
   },
   "outputs": [],
   "source": [
    "def frutas():\n",
    "  yield \"manzana\"\n",
    "  yield \"durazno\"\n",
    "  yield \"pera\"\n",
    "  \n",
    "\n",
    "gen = frutas()\n",
    "#next(gen)"
   ]
  },
  {
   "cell_type": "code",
   "execution_count": null,
   "metadata": {
    "id": "0J6wiEoWG7Qp"
   },
   "outputs": [],
   "source": [
    "for fruta in frutas():\n",
    "  print(fruta)"
   ]
  },
  {
   "cell_type": "markdown",
   "metadata": {
    "id": "aFUc31OmG-Po"
   },
   "source": [
    "Los generadores son funciones que pueden pausarse y retomar su ejecución desde el lugar donde se pausaron."
   ]
  },
  {
   "cell_type": "code",
   "execution_count": null,
   "metadata": {
    "id": "TwWQBbfRHEeD"
   },
   "outputs": [],
   "source": [
    "def frutas():\n",
    "  print(\"inicio del generador\")\n",
    "  yield \"manzana\"\n",
    "  yield \"durazno\"\n",
    "  print(\"después del durazno\")\n",
    "  yield \"pera\"\n",
    "  \n",
    "\n",
    "gen = frutas()"
   ]
  }
 ],
 "metadata": {
  "colab": {
   "authorship_tag": "ABX9TyPZF5UeP5YEPto5WBS+Sd+t",
   "collapsed_sections": [],
   "name": "4-funciones.ipynb",
   "provenance": []
  },
  "kernelspec": {
   "display_name": "Python 3 (ipykernel)",
   "language": "python",
   "name": "python3"
  },
  "language_info": {
   "codemirror_mode": {
    "name": "ipython",
    "version": 3
   },
   "file_extension": ".py",
   "mimetype": "text/x-python",
   "name": "python",
   "nbconvert_exporter": "python",
   "pygments_lexer": "ipython3",
   "version": "3.9.7"
  }
 },
 "nbformat": 4,
 "nbformat_minor": 4
}
